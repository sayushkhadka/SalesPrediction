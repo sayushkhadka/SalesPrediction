{
 "cells": [
  {
   "cell_type": "markdown",
   "id": "8dcb893d",
   "metadata": {},
   "source": [
    "# Sales prediction system using linear regression"
   ]
  },
  {
   "cell_type": "code",
   "execution_count": 1,
   "id": "c8c81d2a",
   "metadata": {},
   "outputs": [],
   "source": [
    "#importing libraries\n",
    "import numpy as np\n",
    "import pandas as pd\n",
    "import  matplotlib.pyplot as plt"
   ]
  },
  {
   "cell_type": "code",
   "execution_count": 2,
   "id": "625065f7",
   "metadata": {},
   "outputs": [],
   "source": [
    "#importing datasets\n",
    "dataframe = pd.read_csv(r'sales_prediction_datasets/train.csv') #raw string, treat everything as it is "
   ]
  },
  {
   "cell_type": "code",
   "execution_count": 3,
   "id": "6159f128",
   "metadata": {},
   "outputs": [
    {
     "name": "stdout",
     "output_type": "stream",
     "text": [
      "<class 'pandas.core.frame.DataFrame'>\n",
      "RangeIndex: 8523 entries, 0 to 8522\n",
      "Data columns (total 12 columns):\n",
      " #   Column                     Non-Null Count  Dtype  \n",
      "---  ------                     --------------  -----  \n",
      " 0   Item_Identifier            8523 non-null   object \n",
      " 1   Item_Weight                7060 non-null   float64\n",
      " 2   Item_Fat_Content           8523 non-null   object \n",
      " 3   Item_Visibility            8523 non-null   float64\n",
      " 4   Item_Type                  8523 non-null   object \n",
      " 5   Item_MRP                   8523 non-null   float64\n",
      " 6   Outlet_Identifier          8523 non-null   object \n",
      " 7   Outlet_Establishment_Year  8523 non-null   int64  \n",
      " 8   Outlet_Size                6113 non-null   object \n",
      " 9   Outlet_Location_Type       8523 non-null   object \n",
      " 10  Outlet_Type                8523 non-null   object \n",
      " 11  Item_Outlet_Sales          8523 non-null   float64\n",
      "dtypes: float64(4), int64(1), object(7)\n",
      "memory usage: 799.2+ KB\n"
     ]
    }
   ],
   "source": [
    "#complete information of the dataset\n",
    "dataframe.info()"
   ]
  },
  {
   "cell_type": "code",
   "execution_count": 4,
   "id": "62235c58",
   "metadata": {},
   "outputs": [
    {
     "data": {
      "text/plain": [
       "(8523, 12)"
      ]
     },
     "execution_count": 4,
     "metadata": {},
     "output_type": "execute_result"
    }
   ],
   "source": [
    "#shape of the dataset\n",
    "dataframe.shape"
   ]
  },
  {
   "cell_type": "code",
   "execution_count": 5,
   "id": "a61174b9",
   "metadata": {},
   "outputs": [
    {
     "data": {
      "text/html": [
       "<div>\n",
       "<style scoped>\n",
       "    .dataframe tbody tr th:only-of-type {\n",
       "        vertical-align: middle;\n",
       "    }\n",
       "\n",
       "    .dataframe tbody tr th {\n",
       "        vertical-align: top;\n",
       "    }\n",
       "\n",
       "    .dataframe thead th {\n",
       "        text-align: right;\n",
       "    }\n",
       "</style>\n",
       "<table border=\"1\" class=\"dataframe\">\n",
       "  <thead>\n",
       "    <tr style=\"text-align: right;\">\n",
       "      <th></th>\n",
       "      <th>Item_Identifier</th>\n",
       "      <th>Item_Weight</th>\n",
       "      <th>Item_Fat_Content</th>\n",
       "      <th>Item_Visibility</th>\n",
       "      <th>Item_Type</th>\n",
       "      <th>Item_MRP</th>\n",
       "      <th>Outlet_Identifier</th>\n",
       "      <th>Outlet_Establishment_Year</th>\n",
       "      <th>Outlet_Size</th>\n",
       "      <th>Outlet_Location_Type</th>\n",
       "      <th>Outlet_Type</th>\n",
       "      <th>Item_Outlet_Sales</th>\n",
       "    </tr>\n",
       "  </thead>\n",
       "  <tbody>\n",
       "    <tr>\n",
       "      <th>0</th>\n",
       "      <td>FDA15</td>\n",
       "      <td>9.30</td>\n",
       "      <td>Low Fat</td>\n",
       "      <td>0.016047</td>\n",
       "      <td>Dairy</td>\n",
       "      <td>249.8092</td>\n",
       "      <td>OUT049</td>\n",
       "      <td>1999</td>\n",
       "      <td>Medium</td>\n",
       "      <td>Tier 1</td>\n",
       "      <td>Supermarket Type1</td>\n",
       "      <td>3735.1380</td>\n",
       "    </tr>\n",
       "    <tr>\n",
       "      <th>1</th>\n",
       "      <td>DRC01</td>\n",
       "      <td>5.92</td>\n",
       "      <td>Regular</td>\n",
       "      <td>0.019278</td>\n",
       "      <td>Soft Drinks</td>\n",
       "      <td>48.2692</td>\n",
       "      <td>OUT018</td>\n",
       "      <td>2009</td>\n",
       "      <td>Medium</td>\n",
       "      <td>Tier 3</td>\n",
       "      <td>Supermarket Type2</td>\n",
       "      <td>443.4228</td>\n",
       "    </tr>\n",
       "    <tr>\n",
       "      <th>2</th>\n",
       "      <td>FDN15</td>\n",
       "      <td>17.50</td>\n",
       "      <td>Low Fat</td>\n",
       "      <td>0.016760</td>\n",
       "      <td>Meat</td>\n",
       "      <td>141.6180</td>\n",
       "      <td>OUT049</td>\n",
       "      <td>1999</td>\n",
       "      <td>Medium</td>\n",
       "      <td>Tier 1</td>\n",
       "      <td>Supermarket Type1</td>\n",
       "      <td>2097.2700</td>\n",
       "    </tr>\n",
       "    <tr>\n",
       "      <th>3</th>\n",
       "      <td>FDX07</td>\n",
       "      <td>19.20</td>\n",
       "      <td>Regular</td>\n",
       "      <td>0.000000</td>\n",
       "      <td>Fruits and Vegetables</td>\n",
       "      <td>182.0950</td>\n",
       "      <td>OUT010</td>\n",
       "      <td>1998</td>\n",
       "      <td>NaN</td>\n",
       "      <td>Tier 3</td>\n",
       "      <td>Grocery Store</td>\n",
       "      <td>732.3800</td>\n",
       "    </tr>\n",
       "    <tr>\n",
       "      <th>4</th>\n",
       "      <td>NCD19</td>\n",
       "      <td>8.93</td>\n",
       "      <td>Low Fat</td>\n",
       "      <td>0.000000</td>\n",
       "      <td>Household</td>\n",
       "      <td>53.8614</td>\n",
       "      <td>OUT013</td>\n",
       "      <td>1987</td>\n",
       "      <td>High</td>\n",
       "      <td>Tier 3</td>\n",
       "      <td>Supermarket Type1</td>\n",
       "      <td>994.7052</td>\n",
       "    </tr>\n",
       "  </tbody>\n",
       "</table>\n",
       "</div>"
      ],
      "text/plain": [
       "  Item_Identifier  Item_Weight Item_Fat_Content  Item_Visibility  \\\n",
       "0           FDA15         9.30          Low Fat         0.016047   \n",
       "1           DRC01         5.92          Regular         0.019278   \n",
       "2           FDN15        17.50          Low Fat         0.016760   \n",
       "3           FDX07        19.20          Regular         0.000000   \n",
       "4           NCD19         8.93          Low Fat         0.000000   \n",
       "\n",
       "               Item_Type  Item_MRP Outlet_Identifier  \\\n",
       "0                  Dairy  249.8092            OUT049   \n",
       "1            Soft Drinks   48.2692            OUT018   \n",
       "2                   Meat  141.6180            OUT049   \n",
       "3  Fruits and Vegetables  182.0950            OUT010   \n",
       "4              Household   53.8614            OUT013   \n",
       "\n",
       "   Outlet_Establishment_Year Outlet_Size Outlet_Location_Type  \\\n",
       "0                       1999      Medium               Tier 1   \n",
       "1                       2009      Medium               Tier 3   \n",
       "2                       1999      Medium               Tier 1   \n",
       "3                       1998         NaN               Tier 3   \n",
       "4                       1987        High               Tier 3   \n",
       "\n",
       "         Outlet_Type  Item_Outlet_Sales  \n",
       "0  Supermarket Type1          3735.1380  \n",
       "1  Supermarket Type2           443.4228  \n",
       "2  Supermarket Type1          2097.2700  \n",
       "3      Grocery Store           732.3800  \n",
       "4  Supermarket Type1           994.7052  "
      ]
     },
     "execution_count": 5,
     "metadata": {},
     "output_type": "execute_result"
    }
   ],
   "source": [
    "dataframe.head()"
   ]
  },
  {
   "cell_type": "code",
   "execution_count": 6,
   "id": "89d2362a",
   "metadata": {},
   "outputs": [],
   "source": [
    "#converting dataframe columns to same case - lowercase\n",
    "dataframe.columns = dataframe.columns.str.lower()"
   ]
  },
  {
   "cell_type": "code",
   "execution_count": 7,
   "id": "1ec713a4",
   "metadata": {},
   "outputs": [
    {
     "name": "stdout",
     "output_type": "stream",
     "text": [
      "<class 'pandas.core.frame.DataFrame'>\n",
      "RangeIndex: 8523 entries, 0 to 8522\n",
      "Data columns (total 12 columns):\n",
      " #   Column                     Non-Null Count  Dtype  \n",
      "---  ------                     --------------  -----  \n",
      " 0   item_identifier            8523 non-null   object \n",
      " 1   item_weight                7060 non-null   float64\n",
      " 2   item_fat_content           8523 non-null   object \n",
      " 3   item_visibility            8523 non-null   float64\n",
      " 4   item_type                  8523 non-null   object \n",
      " 5   item_mrp                   8523 non-null   float64\n",
      " 6   outlet_identifier          8523 non-null   object \n",
      " 7   outlet_establishment_year  8523 non-null   int64  \n",
      " 8   outlet_size                6113 non-null   object \n",
      " 9   outlet_location_type       8523 non-null   object \n",
      " 10  outlet_type                8523 non-null   object \n",
      " 11  item_outlet_sales          8523 non-null   float64\n",
      "dtypes: float64(4), int64(1), object(7)\n",
      "memory usage: 799.2+ KB\n"
     ]
    }
   ],
   "source": [
    "#complete information of the dataset\n",
    "dataframe.info()"
   ]
  },
  {
   "cell_type": "code",
   "execution_count": 8,
   "id": "0b01c8c7",
   "metadata": {},
   "outputs": [
    {
     "data": {
      "text/plain": [
       "item_identifier              1559\n",
       "item_weight                   415\n",
       "item_fat_content                5\n",
       "item_visibility              7880\n",
       "item_type                      16\n",
       "item_mrp                     5938\n",
       "outlet_identifier              10\n",
       "outlet_establishment_year       9\n",
       "outlet_size                     3\n",
       "outlet_location_type            3\n",
       "outlet_type                     4\n",
       "item_outlet_sales            3493\n",
       "dtype: int64"
      ]
     },
     "execution_count": 8,
     "metadata": {},
     "output_type": "execute_result"
    }
   ],
   "source": [
    "#checking unique values\n",
    "#how many unique values are in column\n",
    "dataframe.nunique()"
   ]
  },
  {
   "cell_type": "code",
   "execution_count": 9,
   "id": "605d9147",
   "metadata": {},
   "outputs": [
    {
     "data": {
      "text/html": [
       "<div>\n",
       "<style scoped>\n",
       "    .dataframe tbody tr th:only-of-type {\n",
       "        vertical-align: middle;\n",
       "    }\n",
       "\n",
       "    .dataframe tbody tr th {\n",
       "        vertical-align: top;\n",
       "    }\n",
       "\n",
       "    .dataframe thead th {\n",
       "        text-align: right;\n",
       "    }\n",
       "</style>\n",
       "<table border=\"1\" class=\"dataframe\">\n",
       "  <thead>\n",
       "    <tr style=\"text-align: right;\">\n",
       "      <th></th>\n",
       "      <th>item_identifier</th>\n",
       "      <th>item_weight</th>\n",
       "      <th>item_fat_content</th>\n",
       "      <th>item_visibility</th>\n",
       "      <th>item_type</th>\n",
       "      <th>item_mrp</th>\n",
       "      <th>outlet_identifier</th>\n",
       "      <th>outlet_establishment_year</th>\n",
       "      <th>outlet_size</th>\n",
       "      <th>outlet_location_type</th>\n",
       "      <th>outlet_type</th>\n",
       "      <th>item_outlet_sales</th>\n",
       "    </tr>\n",
       "  </thead>\n",
       "  <tbody>\n",
       "    <tr>\n",
       "      <th>0</th>\n",
       "      <td>FDA15</td>\n",
       "      <td>9.30</td>\n",
       "      <td>Low Fat</td>\n",
       "      <td>0.016047</td>\n",
       "      <td>Dairy</td>\n",
       "      <td>249.8092</td>\n",
       "      <td>OUT049</td>\n",
       "      <td>1999</td>\n",
       "      <td>Medium</td>\n",
       "      <td>Tier 1</td>\n",
       "      <td>Supermarket Type1</td>\n",
       "      <td>3735.1380</td>\n",
       "    </tr>\n",
       "    <tr>\n",
       "      <th>1</th>\n",
       "      <td>DRC01</td>\n",
       "      <td>5.92</td>\n",
       "      <td>Regular</td>\n",
       "      <td>0.019278</td>\n",
       "      <td>Soft Drinks</td>\n",
       "      <td>48.2692</td>\n",
       "      <td>OUT018</td>\n",
       "      <td>2009</td>\n",
       "      <td>Medium</td>\n",
       "      <td>Tier 3</td>\n",
       "      <td>Supermarket Type2</td>\n",
       "      <td>443.4228</td>\n",
       "    </tr>\n",
       "    <tr>\n",
       "      <th>2</th>\n",
       "      <td>FDN15</td>\n",
       "      <td>17.50</td>\n",
       "      <td>Low Fat</td>\n",
       "      <td>0.016760</td>\n",
       "      <td>Meat</td>\n",
       "      <td>141.6180</td>\n",
       "      <td>OUT049</td>\n",
       "      <td>1999</td>\n",
       "      <td>Medium</td>\n",
       "      <td>Tier 1</td>\n",
       "      <td>Supermarket Type1</td>\n",
       "      <td>2097.2700</td>\n",
       "    </tr>\n",
       "    <tr>\n",
       "      <th>3</th>\n",
       "      <td>FDX07</td>\n",
       "      <td>19.20</td>\n",
       "      <td>Regular</td>\n",
       "      <td>0.000000</td>\n",
       "      <td>Fruits and Vegetables</td>\n",
       "      <td>182.0950</td>\n",
       "      <td>OUT010</td>\n",
       "      <td>1998</td>\n",
       "      <td>NaN</td>\n",
       "      <td>Tier 3</td>\n",
       "      <td>Grocery Store</td>\n",
       "      <td>732.3800</td>\n",
       "    </tr>\n",
       "    <tr>\n",
       "      <th>4</th>\n",
       "      <td>NCD19</td>\n",
       "      <td>8.93</td>\n",
       "      <td>Low Fat</td>\n",
       "      <td>0.000000</td>\n",
       "      <td>Household</td>\n",
       "      <td>53.8614</td>\n",
       "      <td>OUT013</td>\n",
       "      <td>1987</td>\n",
       "      <td>High</td>\n",
       "      <td>Tier 3</td>\n",
       "      <td>Supermarket Type1</td>\n",
       "      <td>994.7052</td>\n",
       "    </tr>\n",
       "  </tbody>\n",
       "</table>\n",
       "</div>"
      ],
      "text/plain": [
       "  item_identifier  item_weight item_fat_content  item_visibility  \\\n",
       "0           FDA15         9.30          Low Fat         0.016047   \n",
       "1           DRC01         5.92          Regular         0.019278   \n",
       "2           FDN15        17.50          Low Fat         0.016760   \n",
       "3           FDX07        19.20          Regular         0.000000   \n",
       "4           NCD19         8.93          Low Fat         0.000000   \n",
       "\n",
       "               item_type  item_mrp outlet_identifier  \\\n",
       "0                  Dairy  249.8092            OUT049   \n",
       "1            Soft Drinks   48.2692            OUT018   \n",
       "2                   Meat  141.6180            OUT049   \n",
       "3  Fruits and Vegetables  182.0950            OUT010   \n",
       "4              Household   53.8614            OUT013   \n",
       "\n",
       "   outlet_establishment_year outlet_size outlet_location_type  \\\n",
       "0                       1999      Medium               Tier 1   \n",
       "1                       2009      Medium               Tier 3   \n",
       "2                       1999      Medium               Tier 1   \n",
       "3                       1998         NaN               Tier 3   \n",
       "4                       1987        High               Tier 3   \n",
       "\n",
       "         outlet_type  item_outlet_sales  \n",
       "0  Supermarket Type1          3735.1380  \n",
       "1  Supermarket Type2           443.4228  \n",
       "2  Supermarket Type1          2097.2700  \n",
       "3      Grocery Store           732.3800  \n",
       "4  Supermarket Type1           994.7052  "
      ]
     },
     "execution_count": 9,
     "metadata": {},
     "output_type": "execute_result"
    }
   ],
   "source": [
    "dataframe.head()"
   ]
  },
  {
   "cell_type": "code",
   "execution_count": 10,
   "id": "a81ce217",
   "metadata": {},
   "outputs": [
    {
     "data": {
      "text/plain": [
       "item_identifier                 0\n",
       "item_weight                  1463\n",
       "item_fat_content                0\n",
       "item_visibility                 0\n",
       "item_type                       0\n",
       "item_mrp                        0\n",
       "outlet_identifier               0\n",
       "outlet_establishment_year       0\n",
       "outlet_size                  2410\n",
       "outlet_location_type            0\n",
       "outlet_type                     0\n",
       "item_outlet_sales               0\n",
       "dtype: int64"
      ]
     },
     "execution_count": 10,
     "metadata": {},
     "output_type": "execute_result"
    }
   ],
   "source": [
    "#checking null values\n",
    "#how many null values are in column and in which columns\n",
    "dataframe.isna().sum()"
   ]
  },
  {
   "cell_type": "markdown",
   "id": "960cc7df",
   "metadata": {},
   "source": [
    "### Handling missing values"
   ]
  },
  {
   "cell_type": "code",
   "execution_count": 11,
   "id": "4677a366",
   "metadata": {},
   "outputs": [
    {
     "data": {
      "text/plain": [
       "array(['Dairy', 'Soft Drinks', 'Meat', 'Fruits and Vegetables',\n",
       "       'Household', 'Baking Goods', 'Snack Foods', 'Frozen Foods',\n",
       "       'Breakfast', 'Health and Hygiene', 'Hard Drinks', 'Canned',\n",
       "       'Breads', 'Starchy Foods', 'Others', 'Seafood'], dtype=object)"
      ]
     },
     "execution_count": 11,
     "metadata": {},
     "output_type": "execute_result"
    }
   ],
   "source": [
    "#handling missing values for item_weight\n",
    "dataframe['item_type'].unique()"
   ]
  },
  {
   "cell_type": "code",
   "execution_count": 12,
   "id": "014b9241",
   "metadata": {},
   "outputs": [
    {
     "data": {
      "text/plain": [
       "16"
      ]
     },
     "execution_count": 12,
     "metadata": {},
     "output_type": "execute_result"
    }
   ],
   "source": [
    "#number of unique values in the column item_type\n",
    "dataframe['item_type'].nunique()"
   ]
  },
  {
   "cell_type": "code",
   "execution_count": 13,
   "id": "b13a230e",
   "metadata": {},
   "outputs": [],
   "source": [
    "#Function to calculate total null values in a column according to the unique values in the column\n",
    "#Best suitable for categorical values\n",
    "\n",
    "column_name = dataframe['item_type'] #column name\n",
    "\n",
    "def null_value_count_column_item(dataframe, column):\n",
    "    dataframe_null = {}\n",
    "    uniqueItems = column.unique()\n",
    "    sNo = 1\n",
    "    \n",
    "    for item in uniqueItems:\n",
    "\n",
    "        dataframe_null[item] = (dataframe[column_name == item].isna()).sum()\n",
    "        print(f'{sNo}. {item}')\n",
    "        print(dataframe_null[item])\n",
    "        print()\n",
    "        sNo+=1\n",
    "    "
   ]
  },
  {
   "cell_type": "code",
   "execution_count": 14,
   "id": "566772b0",
   "metadata": {},
   "outputs": [
    {
     "name": "stdout",
     "output_type": "stream",
     "text": [
      "1. Dairy\n",
      "item_identifier                0\n",
      "item_weight                  116\n",
      "item_fat_content               0\n",
      "item_visibility                0\n",
      "item_type                      0\n",
      "item_mrp                       0\n",
      "outlet_identifier              0\n",
      "outlet_establishment_year      0\n",
      "outlet_size                  186\n",
      "outlet_location_type           0\n",
      "outlet_type                    0\n",
      "item_outlet_sales              0\n",
      "dtype: int64\n",
      "\n",
      "2. Soft Drinks\n",
      "item_identifier                0\n",
      "item_weight                   71\n",
      "item_fat_content               0\n",
      "item_visibility                0\n",
      "item_type                      0\n",
      "item_mrp                       0\n",
      "outlet_identifier              0\n",
      "outlet_establishment_year      0\n",
      "outlet_size                  133\n",
      "outlet_location_type           0\n",
      "outlet_type                    0\n",
      "item_outlet_sales              0\n",
      "dtype: int64\n",
      "\n",
      "3. Meat\n",
      "item_identifier                0\n",
      "item_weight                   88\n",
      "item_fat_content               0\n",
      "item_visibility                0\n",
      "item_type                      0\n",
      "item_mrp                       0\n",
      "outlet_identifier              0\n",
      "outlet_establishment_year      0\n",
      "outlet_size                  116\n",
      "outlet_location_type           0\n",
      "outlet_type                    0\n",
      "item_outlet_sales              0\n",
      "dtype: int64\n",
      "\n",
      "4. Fruits and Vegetables\n",
      "item_identifier                0\n",
      "item_weight                  213\n",
      "item_fat_content               0\n",
      "item_visibility                0\n",
      "item_type                      0\n",
      "item_mrp                       0\n",
      "outlet_identifier              0\n",
      "outlet_establishment_year      0\n",
      "outlet_size                  349\n",
      "outlet_location_type           0\n",
      "outlet_type                    0\n",
      "item_outlet_sales              0\n",
      "dtype: int64\n",
      "\n",
      "5. Household\n",
      "item_identifier                0\n",
      "item_weight                  151\n",
      "item_fat_content               0\n",
      "item_visibility                0\n",
      "item_type                      0\n",
      "item_mrp                       0\n",
      "outlet_identifier              0\n",
      "outlet_establishment_year      0\n",
      "outlet_size                  261\n",
      "outlet_location_type           0\n",
      "outlet_type                    0\n",
      "item_outlet_sales              0\n",
      "dtype: int64\n",
      "\n",
      "6. Baking Goods\n",
      "item_identifier                0\n",
      "item_weight                  112\n",
      "item_fat_content               0\n",
      "item_visibility                0\n",
      "item_type                      0\n",
      "item_mrp                       0\n",
      "outlet_identifier              0\n",
      "outlet_establishment_year      0\n",
      "outlet_size                  185\n",
      "outlet_location_type           0\n",
      "outlet_type                    0\n",
      "item_outlet_sales              0\n",
      "dtype: int64\n",
      "\n",
      "7. Snack Foods\n",
      "item_identifier                0\n",
      "item_weight                  212\n",
      "item_fat_content               0\n",
      "item_visibility                0\n",
      "item_type                      0\n",
      "item_mrp                       0\n",
      "outlet_identifier              0\n",
      "outlet_establishment_year      0\n",
      "outlet_size                  332\n",
      "outlet_location_type           0\n",
      "outlet_type                    0\n",
      "item_outlet_sales              0\n",
      "dtype: int64\n",
      "\n",
      "8. Frozen Foods\n",
      "item_identifier                0\n",
      "item_weight                  138\n",
      "item_fat_content               0\n",
      "item_visibility                0\n",
      "item_type                      0\n",
      "item_mrp                       0\n",
      "outlet_identifier              0\n",
      "outlet_establishment_year      0\n",
      "outlet_size                  241\n",
      "outlet_location_type           0\n",
      "outlet_type                    0\n",
      "item_outlet_sales              0\n",
      "dtype: int64\n",
      "\n",
      "9. Breakfast\n",
      "item_identifier               0\n",
      "item_weight                  21\n",
      "item_fat_content              0\n",
      "item_visibility               0\n",
      "item_type                     0\n",
      "item_mrp                      0\n",
      "outlet_identifier             0\n",
      "outlet_establishment_year     0\n",
      "outlet_size                  31\n",
      "outlet_location_type          0\n",
      "outlet_type                   0\n",
      "item_outlet_sales             0\n",
      "dtype: int64\n",
      "\n",
      "10. Health and Hygiene\n",
      "item_identifier                0\n",
      "item_weight                   90\n",
      "item_fat_content               0\n",
      "item_visibility                0\n",
      "item_type                      0\n",
      "item_mrp                       0\n",
      "outlet_identifier              0\n",
      "outlet_establishment_year      0\n",
      "outlet_size                  153\n",
      "outlet_location_type           0\n",
      "outlet_type                    0\n",
      "item_outlet_sales              0\n",
      "dtype: int64\n",
      "\n",
      "11. Hard Drinks\n",
      "item_identifier               0\n",
      "item_weight                  31\n",
      "item_fat_content              0\n",
      "item_visibility               0\n",
      "item_type                     0\n",
      "item_mrp                      0\n",
      "outlet_identifier             0\n",
      "outlet_establishment_year     0\n",
      "outlet_size                  66\n",
      "outlet_location_type          0\n",
      "outlet_type                   0\n",
      "item_outlet_sales             0\n",
      "dtype: int64\n",
      "\n",
      "12. Canned\n",
      "item_identifier                0\n",
      "item_weight                  110\n",
      "item_fat_content               0\n",
      "item_visibility                0\n",
      "item_type                      0\n",
      "item_mrp                       0\n",
      "outlet_identifier              0\n",
      "outlet_establishment_year      0\n",
      "outlet_size                  178\n",
      "outlet_location_type           0\n",
      "outlet_type                    0\n",
      "item_outlet_sales              0\n",
      "dtype: int64\n",
      "\n",
      "13. Breads\n",
      "item_identifier               0\n",
      "item_weight                  47\n",
      "item_fat_content              0\n",
      "item_visibility               0\n",
      "item_type                     0\n",
      "item_mrp                      0\n",
      "outlet_identifier             0\n",
      "outlet_establishment_year     0\n",
      "outlet_size                  72\n",
      "outlet_location_type          0\n",
      "outlet_type                   0\n",
      "item_outlet_sales             0\n",
      "dtype: int64\n",
      "\n",
      "14. Starchy Foods\n",
      "item_identifier               0\n",
      "item_weight                  18\n",
      "item_fat_content              0\n",
      "item_visibility               0\n",
      "item_type                     0\n",
      "item_mrp                      0\n",
      "outlet_identifier             0\n",
      "outlet_establishment_year     0\n",
      "outlet_size                  43\n",
      "outlet_location_type          0\n",
      "outlet_type                   0\n",
      "item_outlet_sales             0\n",
      "dtype: int64\n",
      "\n",
      "15. Others\n",
      "item_identifier               0\n",
      "item_weight                  32\n",
      "item_fat_content              0\n",
      "item_visibility               0\n",
      "item_type                     0\n",
      "item_mrp                      0\n",
      "outlet_identifier             0\n",
      "outlet_establishment_year     0\n",
      "outlet_size                  46\n",
      "outlet_location_type          0\n",
      "outlet_type                   0\n",
      "item_outlet_sales             0\n",
      "dtype: int64\n",
      "\n",
      "16. Seafood\n",
      "item_identifier               0\n",
      "item_weight                  13\n",
      "item_fat_content              0\n",
      "item_visibility               0\n",
      "item_type                     0\n",
      "item_mrp                      0\n",
      "outlet_identifier             0\n",
      "outlet_establishment_year     0\n",
      "outlet_size                  18\n",
      "outlet_location_type          0\n",
      "outlet_type                   0\n",
      "item_outlet_sales             0\n",
      "dtype: int64\n",
      "\n"
     ]
    }
   ],
   "source": [
    "#calling the function\n",
    "null_value_count_column_item(dataframe, column_name)"
   ]
  },
  {
   "cell_type": "code",
   "execution_count": 15,
   "id": "d48479d7",
   "metadata": {},
   "outputs": [
    {
     "data": {
      "text/plain": [
       "array(['Dairy', 'Soft Drinks', 'Meat', 'Fruits and Vegetables',\n",
       "       'Household', 'Baking Goods', 'Snack Foods', 'Frozen Foods',\n",
       "       'Breakfast', 'Health and Hygiene', 'Hard Drinks', 'Canned',\n",
       "       'Breads', 'Starchy Foods', 'Others', 'Seafood'], dtype=object)"
      ]
     },
     "execution_count": 15,
     "metadata": {},
     "output_type": "execute_result"
    }
   ],
   "source": [
    "uniqueItems = dataframe['item_type'].unique()\n",
    "uniqueItems"
   ]
  },
  {
   "cell_type": "code",
   "execution_count": 16,
   "id": "e81e675f",
   "metadata": {},
   "outputs": [
    {
     "name": "stdout",
     "output_type": "stream",
     "text": [
      "<class 'pandas.core.frame.DataFrame'>\n",
      "RangeIndex: 8523 entries, 0 to 8522\n",
      "Data columns (total 12 columns):\n",
      " #   Column                     Non-Null Count  Dtype  \n",
      "---  ------                     --------------  -----  \n",
      " 0   item_identifier            8523 non-null   object \n",
      " 1   item_weight                7060 non-null   float64\n",
      " 2   item_fat_content           8523 non-null   object \n",
      " 3   item_visibility            8523 non-null   float64\n",
      " 4   item_type                  8523 non-null   object \n",
      " 5   item_mrp                   8523 non-null   float64\n",
      " 6   outlet_identifier          8523 non-null   object \n",
      " 7   outlet_establishment_year  8523 non-null   int64  \n",
      " 8   outlet_size                6113 non-null   object \n",
      " 9   outlet_location_type       8523 non-null   object \n",
      " 10  outlet_type                8523 non-null   object \n",
      " 11  item_outlet_sales          8523 non-null   float64\n",
      "dtypes: float64(4), int64(1), object(7)\n",
      "memory usage: 799.2+ KB\n"
     ]
    }
   ],
   "source": [
    "dataframe.info()"
   ]
  },
  {
   "cell_type": "code",
   "execution_count": 17,
   "id": "a6b97610",
   "metadata": {},
   "outputs": [
    {
     "name": "stdout",
     "output_type": "stream",
     "text": [
      "Mean of items in item_type: (The mean of values are different when the values were null and now when filled ) \n",
      "This shows the mean after the missing values have been handled\n",
      "\n",
      "Dairy : 13.42606890459364\n",
      "Soft Drinks : 12.09932784769921\n",
      "Meat : 12.943386032009979\n",
      "Fruits and Vegetables : 13.259571977823414\n",
      "Household : 13.3915949501029\n",
      "Baking Goods : 12.47569400820137\n",
      "Snack Foods : 13.065293006478209\n",
      "Frozen Foods : 12.957181669198507\n",
      "Breakfast : 12.893794972695146\n",
      "Health and Hygiene : 13.191425387333513\n",
      "Hard Drinks : 11.693776336646742\n",
      "Canned : 12.495597194923421\n",
      "Breads : 11.736255930342235\n",
      "Starchy Foods : 13.658542164072198\n",
      "Others : 13.7723917452485\n",
      "Seafood : 12.730217121245584\n"
     ]
    }
   ],
   "source": [
    "#filling the missing values of item_weight according to the unique values from item_type respectively\n",
    "uniqueItems = dataframe['item_type'].unique()\n",
    "selectItem = {}\n",
    "print('Mean of items in item_type: (The mean of values are different when the values were null and now when filled ) ')\n",
    "print('This shows the mean after the missing values have been handled')\n",
    "print()\n",
    "for item in uniqueItems:\n",
    "    \n",
    "    selectItem = (dataframe[dataframe['item_type'] == item])\n",
    "    fillItemWeight = selectItem['item_weight'].mean()\n",
    "    print(f\"{item} : {fillItemWeight}\")\n",
    "    dataframe['item_weight'] = dataframe['item_weight'].fillna(value=fillItemWeight, inplace=False)\n"
   ]
  },
  {
   "cell_type": "code",
   "execution_count": 18,
   "id": "36c99e2f",
   "metadata": {},
   "outputs": [
    {
     "name": "stdout",
     "output_type": "stream",
     "text": [
      "<class 'pandas.core.frame.DataFrame'>\n",
      "RangeIndex: 8523 entries, 0 to 8522\n",
      "Data columns (total 12 columns):\n",
      " #   Column                     Non-Null Count  Dtype  \n",
      "---  ------                     --------------  -----  \n",
      " 0   item_identifier            8523 non-null   object \n",
      " 1   item_weight                8523 non-null   float64\n",
      " 2   item_fat_content           8523 non-null   object \n",
      " 3   item_visibility            8523 non-null   float64\n",
      " 4   item_type                  8523 non-null   object \n",
      " 5   item_mrp                   8523 non-null   float64\n",
      " 6   outlet_identifier          8523 non-null   object \n",
      " 7   outlet_establishment_year  8523 non-null   int64  \n",
      " 8   outlet_size                6113 non-null   object \n",
      " 9   outlet_location_type       8523 non-null   object \n",
      " 10  outlet_type                8523 non-null   object \n",
      " 11  item_outlet_sales          8523 non-null   float64\n",
      "dtypes: float64(4), int64(1), object(7)\n",
      "memory usage: 799.2+ KB\n"
     ]
    }
   ],
   "source": [
    "#missing value from item_weight has been handled\n",
    "dataframe.info()"
   ]
  },
  {
   "cell_type": "code",
   "execution_count": 19,
   "id": "8881863b",
   "metadata": {},
   "outputs": [
    {
     "data": {
      "text/plain": [
       "0"
      ]
     },
     "execution_count": 19,
     "metadata": {},
     "output_type": "execute_result"
    }
   ],
   "source": [
    "dataframe['item_weight'].isna().sum()"
   ]
  },
  {
   "cell_type": "code",
   "execution_count": 20,
   "id": "45758256",
   "metadata": {},
   "outputs": [],
   "source": [
    "# Handling the missing values in dataframe['outlet_size']\n",
    "\n",
    "dataframe['outlet_size'].fillna(dataframe['outlet_size'].mode()[0] , inplace=True) #mode()[0]- get mode of each column"
   ]
  },
  {
   "cell_type": "code",
   "execution_count": 21,
   "id": "f7fbd99c",
   "metadata": {},
   "outputs": [
    {
     "name": "stdout",
     "output_type": "stream",
     "text": [
      "<class 'pandas.core.frame.DataFrame'>\n",
      "RangeIndex: 8523 entries, 0 to 8522\n",
      "Data columns (total 12 columns):\n",
      " #   Column                     Non-Null Count  Dtype  \n",
      "---  ------                     --------------  -----  \n",
      " 0   item_identifier            8523 non-null   object \n",
      " 1   item_weight                8523 non-null   float64\n",
      " 2   item_fat_content           8523 non-null   object \n",
      " 3   item_visibility            8523 non-null   float64\n",
      " 4   item_type                  8523 non-null   object \n",
      " 5   item_mrp                   8523 non-null   float64\n",
      " 6   outlet_identifier          8523 non-null   object \n",
      " 7   outlet_establishment_year  8523 non-null   int64  \n",
      " 8   outlet_size                8523 non-null   object \n",
      " 9   outlet_location_type       8523 non-null   object \n",
      " 10  outlet_type                8523 non-null   object \n",
      " 11  item_outlet_sales          8523 non-null   float64\n",
      "dtypes: float64(4), int64(1), object(7)\n",
      "memory usage: 799.2+ KB\n"
     ]
    }
   ],
   "source": [
    "dataframe.info()"
   ]
  },
  {
   "cell_type": "code",
   "execution_count": 22,
   "id": "019803d0",
   "metadata": {},
   "outputs": [
    {
     "data": {
      "text/plain": [
       "0"
      ]
     },
     "execution_count": 22,
     "metadata": {},
     "output_type": "execute_result"
    }
   ],
   "source": [
    "#missing value from outlet_size has been handled\n",
    "dataframe['outlet_size'].isna().sum()"
   ]
  },
  {
   "cell_type": "code",
   "execution_count": 48,
   "id": "92705636",
   "metadata": {},
   "outputs": [
    {
     "data": {
      "text/plain": [
       "array([nan], dtype=object)"
      ]
     },
     "execution_count": 48,
     "metadata": {},
     "output_type": "execute_result"
    }
   ],
   "source": [
    "#checking for different unique values in \n",
    "dataframe['item_fat_content'].unique()"
   ]
  },
  {
   "cell_type": "code",
   "execution_count": null,
   "id": "c034acb2",
   "metadata": {},
   "outputs": [],
   "source": []
  },
  {
   "cell_type": "code",
   "execution_count": 47,
   "id": "42003049",
   "metadata": {},
   "outputs": [
    {
     "data": {
      "text/plain": [
       "array([nan], dtype=object)"
      ]
     },
     "execution_count": 47,
     "metadata": {},
     "output_type": "execute_result"
    }
   ],
   "source": [
    "#Creating a dictionary to map all records of train[['Item_Fat_Content']  to low or regular only respectively.\n",
    "\n",
    "item_fat={\n",
    "    'Low Fat': 'low',\n",
    "    'LF': 'low',\n",
    "    'low fat': 'low',\n",
    "    'Regular': 'regular',\n",
    "    'reg': 'regular', \n",
    "}\n",
    "\n",
    "dataframe['item_fat_content'] = dataframe['item_fat_content'].map(item_fat)\n",
    "\n",
    "dataframe['item_fat_content'].unique()"
   ]
  },
  {
   "cell_type": "code",
   "execution_count": null,
   "id": "2f779fc2",
   "metadata": {},
   "outputs": [],
   "source": []
  },
  {
   "cell_type": "code",
   "execution_count": null,
   "id": "2a067f06",
   "metadata": {},
   "outputs": [],
   "source": []
  },
  {
   "cell_type": "code",
   "execution_count": null,
   "id": "824ea237",
   "metadata": {},
   "outputs": [],
   "source": []
  },
  {
   "cell_type": "code",
   "execution_count": null,
   "id": "66e9e208",
   "metadata": {},
   "outputs": [],
   "source": []
  },
  {
   "cell_type": "code",
   "execution_count": null,
   "id": "4f866d51",
   "metadata": {},
   "outputs": [],
   "source": []
  },
  {
   "cell_type": "code",
   "execution_count": null,
   "id": "0992a17f",
   "metadata": {},
   "outputs": [],
   "source": []
  },
  {
   "cell_type": "code",
   "execution_count": null,
   "id": "7f345cd6",
   "metadata": {},
   "outputs": [],
   "source": []
  },
  {
   "cell_type": "code",
   "execution_count": null,
   "id": "538b14d8",
   "metadata": {},
   "outputs": [],
   "source": []
  },
  {
   "cell_type": "code",
   "execution_count": 25,
   "id": "2d07c37f",
   "metadata": {},
   "outputs": [],
   "source": [
    "# #imputing grade values form the average \n",
    "# from sklearn.impute import SimpleImputer\n",
    "\n",
    "# imputer = SimpleImputer(missing_values=np.nan, strategy='mean')\n",
    "# imputer.fit([['Item_Weight']])\n",
    "\n",
    "# test['Item_Weight'] = imputer.transform(test[['Item_Weight']]).ravel()\n",
    "# test['Item_Weight'].isna().sum()"
   ]
  },
  {
   "cell_type": "code",
   "execution_count": null,
   "id": "55ce00e3",
   "metadata": {},
   "outputs": [],
   "source": []
  },
  {
   "cell_type": "code",
   "execution_count": null,
   "id": "c0d54ab3",
   "metadata": {},
   "outputs": [],
   "source": []
  },
  {
   "cell_type": "code",
   "execution_count": 26,
   "id": "9617684f",
   "metadata": {},
   "outputs": [],
   "source": [
    "#checking for different unique values in train[['Item_Fat_Content']\n",
    "# train['Item_Fat_Content'].unique()\n",
    "#trainItemFat = np.unique(train[['Item_Fat_Content']].values)"
   ]
  },
  {
   "cell_type": "code",
   "execution_count": null,
   "id": "70f66003",
   "metadata": {},
   "outputs": [],
   "source": []
  },
  {
   "cell_type": "code",
   "execution_count": null,
   "id": "c9589b12",
   "metadata": {},
   "outputs": [],
   "source": []
  },
  {
   "cell_type": "code",
   "execution_count": 27,
   "id": "3944eaa4",
   "metadata": {},
   "outputs": [],
   "source": [
    "# #Creating a dictionary to map all records of train[['Item_Fat_Content']  to low or regular only respectively.\n",
    "# item_fat={\n",
    "#     'Low Fat': 'low',\n",
    "#     'LF': 'low',\n",
    "#     'low fat': 'low',\n",
    "#     'Regular': 'regular',\n",
    "#     'reg': 'regular', \n",
    "# }\n",
    "\n",
    "# train['Item_Fat_Content'] = train['Item_Fat_Content'].map(item_fat)\n",
    "# test['Item_Fat_Content'] = test['Item_Fat_Content'].map(item_fat)\n",
    "\n",
    "# train['Item_Fat_Content'].unique()"
   ]
  },
  {
   "cell_type": "code",
   "execution_count": 28,
   "id": "49feadb3",
   "metadata": {},
   "outputs": [],
   "source": [
    "# train['Item_Fat_Content'].unique()"
   ]
  },
  {
   "cell_type": "code",
   "execution_count": 29,
   "id": "823966a7",
   "metadata": {},
   "outputs": [],
   "source": [
    "# train['Outlet_Size'].unique()"
   ]
  },
  {
   "cell_type": "code",
   "execution_count": 30,
   "id": "ced80010",
   "metadata": {},
   "outputs": [],
   "source": [
    "# train['Outlet_Location_Type'].unique()"
   ]
  },
  {
   "cell_type": "code",
   "execution_count": 31,
   "id": "cee72324",
   "metadata": {},
   "outputs": [],
   "source": [
    "# train['Outlet_Type'].unique()"
   ]
  },
  {
   "cell_type": "code",
   "execution_count": 32,
   "id": "24d51be8",
   "metadata": {},
   "outputs": [],
   "source": [
    "# train['Item_Type'].unique()"
   ]
  },
  {
   "cell_type": "code",
   "execution_count": 33,
   "id": "c11c1ead",
   "metadata": {},
   "outputs": [],
   "source": [
    "# train['Outlet_Identifier'].unique()"
   ]
  },
  {
   "cell_type": "code",
   "execution_count": 34,
   "id": "c02adee7",
   "metadata": {},
   "outputs": [],
   "source": [
    "# train['Item_Identifier'].nunique()"
   ]
  },
  {
   "cell_type": "code",
   "execution_count": 35,
   "id": "a67bdd37",
   "metadata": {},
   "outputs": [],
   "source": [
    "# train['Item_Weight'].isna().sum()"
   ]
  },
  {
   "cell_type": "code",
   "execution_count": 36,
   "id": "995f90f7",
   "metadata": {},
   "outputs": [],
   "source": [
    "# train['Outlet_Size'].isna().sum()"
   ]
  },
  {
   "cell_type": "code",
   "execution_count": 37,
   "id": "ed661ae1",
   "metadata": {},
   "outputs": [],
   "source": [
    "# train['Outlet_Size'].isna().sum()"
   ]
  },
  {
   "cell_type": "code",
   "execution_count": 38,
   "id": "91886bdb",
   "metadata": {},
   "outputs": [],
   "source": [
    "# #Handling the missing values in train['Item_Weight']\n",
    "\n",
    "# train['Item_Weight'].fillna(train['Item_Weight'].mean(), inplace=True)"
   ]
  },
  {
   "cell_type": "code",
   "execution_count": 39,
   "id": "2f83a374",
   "metadata": {},
   "outputs": [],
   "source": [
    "# train['Item_Weight'].isna().sum()"
   ]
  },
  {
   "cell_type": "code",
   "execution_count": 40,
   "id": "c072e0c0",
   "metadata": {},
   "outputs": [],
   "source": [
    "# #Handling the missing values in train['Outlet_Size']\n",
    "\n",
    "# train['Outlet_Size'].fillna(train['Outlet_Size'].mode()[0] , inplace=True) #mode()[0]- get mode of each column"
   ]
  },
  {
   "cell_type": "code",
   "execution_count": 41,
   "id": "93b4872e",
   "metadata": {},
   "outputs": [],
   "source": [
    "# train['Outlet_Size'].isna().sum()"
   ]
  },
  {
   "cell_type": "code",
   "execution_count": 42,
   "id": "9f233f02",
   "metadata": {},
   "outputs": [],
   "source": [
    "# #checking for outliers\n",
    "# train.plot(kind='box', subplots=True, layout=(1,7), figsize=(20,7))"
   ]
  },
  {
   "cell_type": "code",
   "execution_count": 43,
   "id": "bfd6c6d0",
   "metadata": {},
   "outputs": [],
   "source": [
    "# #removing outliers\n",
    "# train['Item_Visibility']=train[train['Item_Visibility']<0.18]['Item_Visibility']"
   ]
  },
  {
   "cell_type": "code",
   "execution_count": 44,
   "id": "cab1295d",
   "metadata": {},
   "outputs": [],
   "source": [
    "# #checking for outliers\n",
    "# #Outliers in Item_Outlet_Sales are neglected as sales can sometime go high suddenly in some seasons\n",
    "\n",
    "# train.plot(kind='box', subplots=True, layout=(1,7), figsize=(20,7))"
   ]
  },
  {
   "cell_type": "code",
   "execution_count": 45,
   "id": "9c086c5f",
   "metadata": {},
   "outputs": [],
   "source": [
    "# train.describe()"
   ]
  }
 ],
 "metadata": {
  "kernelspec": {
   "display_name": "Python 3 (ipykernel)",
   "language": "python",
   "name": "python3"
  },
  "language_info": {
   "codemirror_mode": {
    "name": "ipython",
    "version": 3
   },
   "file_extension": ".py",
   "mimetype": "text/x-python",
   "name": "python",
   "nbconvert_exporter": "python",
   "pygments_lexer": "ipython3",
   "version": "3.9.6"
  }
 },
 "nbformat": 4,
 "nbformat_minor": 5
}
